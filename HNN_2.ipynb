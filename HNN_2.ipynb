{
  "nbformat": 4,
  "nbformat_minor": 0,
  "metadata": {
    "colab": {
      "name": "Untitled0.ipynb",
      "provenance": []
    },
    "kernelspec": {
      "name": "python3",
      "display_name": "Python 3"
    }
  },
  "cells": [
    {
      "cell_type": "code",
      "metadata": {
        "id": "T-G3qaKDynzQ",
        "colab_type": "code",
        "outputId": "582aa62c-3cf9-490e-a348-6e251b346769",
        "colab": {
          "base_uri": "https://localhost:8080/",
          "height": 357
        }
      },
      "source": [
        "\n",
        "import tcnn\n",
        "import numpy as np\n",
        "import pandas as pd\n",
        "\n",
        "\n",
        "N_RUNS = int(10)\n",
        "MAX_IT = int(1000)\n",
        "constants = {\n",
        "    \"k\": 0.9,\n",
        "    \"epsilon\": 0.004,\n",
        "    \"I0\": 0.5,\n",
        "    \"z0\": 0.1,\n",
        "    \"W1\": 1,\n",
        "    \"W2\": 1,\n",
        "    \"alpha\": 0.015,\n",
        "    \"beta\": 0.01\n",
        "}\n",
        "\n",
        "attrs = [\"iter\"]\n",
        "\n",
        "#distances = tsplib.distance_matrix(tsp_file)\n",
        "dist_read=pd.read_csv(\"MD_MVC_full_0.99.csv\")\n",
        "distances =np.array(dist_read)[:,1:]\n",
        "distances = distances + distances.transpose()\n",
        "\n",
        "tour_lengths = []\n",
        "for i in range(N_RUNS):\n",
        "    net = tcnn.TCNN(distances, **constants)\n",
        "    results = net.run(maxiter = MAX_IT, collecting = attrs)\n",
        "    I = results[\"iter\"]\n",
        "    \n",
        "    if net.valid_tour():\n",
        "        l = net.tour_length()\n",
        "        display(net.tour())\n",
        "        tour_lengths.append(l)\n",
        "        print(\"run %d converged by step %d, length = %f\" % (i, I[-1],l))\n",
        "    else:\n",
        "        print(\"run %d did not converge by step %d\" % (i,I[-1]))\n",
        "\n",
        ""
      ],
      "execution_count": 2,
      "outputs": [
        {
          "output_type": "display_data",
          "data": {
            "text/plain": "[13, 17, 14, 4, 16, 7, 5, 15, 8, 6, 9, 10, 11, 19, 3, 0, 2, 1, 18, 12]"
          },
          "metadata": {}
        },
        {
          "output_type": "stream",
          "name": "stdout",
          "text": "run 0 converged by step 238, length = 726.845000\n"
        },
        {
          "output_type": "display_data",
          "data": {
            "text/plain": "[17, 1, 16, 4, 14, 7, 5, 15, 0, 8, 3, 11, 10, 19, 9, 6, 2, 12, 18, 13]"
          },
          "metadata": {}
        },
        {
          "output_type": "stream",
          "name": "stdout",
          "text": "run 1 converged by step 260, length = 780.650000\n"
        },
        {
          "output_type": "display_data",
          "data": {
            "text/plain": "[7, 3, 15, 9, 11, 10, 19, 5, 0, 8, 6, 2, 4, 16, 14, 17, 1, 18, 12, 13]"
          },
          "metadata": {}
        },
        {
          "output_type": "stream",
          "name": "stdout",
          "text": "run 2 converged by step 270, length = 765.645000\n"
        },
        {
          "output_type": "display_data",
          "data": {
            "text/plain": "[5, 8, 0, 15, 9, 19, 11, 10, 2, 18, 1, 13, 12, 17, 14, 16, 4, 7, 6, 3]"
          },
          "metadata": {}
        },
        {
          "output_type": "stream",
          "name": "stdout",
          "text": "run 3 converged by step 312, length = 775.005000\n"
        },
        {
          "output_type": "display_data",
          "data": {
            "text/plain": "[5, 2, 9, 11, 10, 19, 0, 3, 15, 6, 17, 1, 13, 12, 18, 14, 4, 16, 7, 8]"
          },
          "metadata": {}
        },
        {
          "output_type": "stream",
          "name": "stdout",
          "text": "run 4 converged by step 232, length = 752.310000\n"
        },
        {
          "output_type": "display_data",
          "data": {
            "text/plain": "[11, 6, 5, 8, 15, 3, 13, 1, 18, 12, 17, 14, 4, 16, 7, 2, 0, 19, 9, 10]"
          },
          "metadata": {}
        },
        {
          "output_type": "stream",
          "name": "stdout",
          "text": "run 5 converged by step 257, length = 758.030000\n"
        },
        {
          "output_type": "display_data",
          "data": {
            "text/plain": "[19, 0, 3, 15, 6, 13, 12, 1, 18, 17, 4, 14, 16, 7, 5, 8, 2, 9, 11, 10]"
          },
          "metadata": {}
        },
        {
          "output_type": "stream",
          "name": "stdout",
          "text": "run 6 converged by step 259, length = 763.085000\n"
        },
        {
          "output_type": "display_data",
          "data": {
            "text/plain": "[8, 6, 9, 10, 11, 3, 0, 15, 2, 5, 19, 14, 4, 16, 17, 1, 12, 18, 13, 7]"
          },
          "metadata": {}
        },
        {
          "output_type": "stream",
          "name": "stdout",
          "text": "run 7 converged by step 324, length = 793.735000\n"
        },
        {
          "output_type": "display_data",
          "data": {
            "text/plain": "[9, 11, 10, 19, 2, 3, 8, 5, 7, 16, 4, 14, 17, 1, 18, 12, 13, 15, 0, 6]"
          },
          "metadata": {}
        },
        {
          "output_type": "stream",
          "name": "stdout",
          "text": "run 8 converged by step 255, length = 726.260000\n"
        },
        {
          "output_type": "display_data",
          "data": {
            "text/plain": "[4, 16, 14, 17, 1, 12, 13, 18, 7, 2, 3, 15, 5, 8, 10, 11, 9, 19, 6, 0]"
          },
          "metadata": {}
        },
        {
          "output_type": "stream",
          "name": "stdout",
          "text": "run 9 converged by step 277, length = 775.110000\n"
        }
      ]
    }
  ]
}